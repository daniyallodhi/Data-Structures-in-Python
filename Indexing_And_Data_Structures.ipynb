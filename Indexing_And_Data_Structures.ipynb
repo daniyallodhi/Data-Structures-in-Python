{
 "cells": [
  {
   "cell_type": "markdown",
   "id": "11b14533",
   "metadata": {},
   "source": [
    "# Inedxing"
   ]
  },
  {
   "cell_type": "code",
   "execution_count": 2,
   "id": "17872e89",
   "metadata": {},
   "outputs": [
    {
     "name": "stdout",
     "output_type": "stream",
     "text": [
      "Apple\n"
     ]
    }
   ],
   "source": [
    "food = \"Apple\"\n",
    "print (food)"
   ]
  },
  {
   "cell_type": "code",
   "execution_count": 3,
   "id": "3c25ca06",
   "metadata": {},
   "outputs": [
    {
     "data": {
      "text/plain": [
       "5"
      ]
     },
     "execution_count": 3,
     "metadata": {},
     "output_type": "execute_result"
    }
   ],
   "source": [
    "#find lenght of the string\n",
    "len(food)"
   ]
  },
  {
   "cell_type": "code",
   "execution_count": 5,
   "id": "3aa9a6fb",
   "metadata": {},
   "outputs": [
    {
     "data": {
      "text/plain": [
       "'A'"
      ]
     },
     "execution_count": 5,
     "metadata": {},
     "output_type": "execute_result"
    }
   ],
   "source": [
    "#indexing: It always starts from 0\n",
    "food[0]"
   ]
  },
  {
   "cell_type": "code",
   "execution_count": 6,
   "id": "6dbf0de9",
   "metadata": {},
   "outputs": [
    {
     "data": {
      "text/plain": [
       "'App'"
      ]
     },
     "execution_count": 6,
     "metadata": {},
     "output_type": "execute_result"
    }
   ],
   "source": [
    "#range in indexing\n",
    "food[0:3] #Always Remember: here 3 is not included, It will run 0,1,2 only"
   ]
  },
  {
   "cell_type": "code",
   "execution_count": 7,
   "id": "07ca2a0b",
   "metadata": {},
   "outputs": [
    {
     "data": {
      "text/plain": [
       "'le'"
      ]
     },
     "execution_count": 7,
     "metadata": {},
     "output_type": "execute_result"
    }
   ],
   "source": [
    "#range in indexing\n",
    "food[-2:5] #-2 WILL SKIP First 2 Chracters"
   ]
  },
  {
   "cell_type": "markdown",
   "id": "f29e8da0",
   "metadata": {},
   "source": [
    "# Basic Data Structures in Python\n",
    "1. Tuples\n",
    "2. List\n",
    "3. Dictionaries\n",
    "4. Set"
   ]
  },
  {
   "cell_type": "markdown",
   "id": "2140d3ed",
   "metadata": {},
   "source": [
    "# Tupples\n",
    "A tuple is a collection which is: \n",
    "                              Ordered and unchangeable.\n",
    "Tuples are written with round brackets\"()\"."
   ]
  },
  {
   "cell_type": "code",
   "execution_count": 10,
   "id": "52079dc3",
   "metadata": {},
   "outputs": [
    {
     "name": "stdout",
     "output_type": "stream",
     "text": [
      "('Car', 5000000, 'Civic', 2002)\n",
      "4\n",
      "<class 'tuple'>\n"
     ]
    }
   ],
   "source": [
    "tuple = (\"Car\",5000000,\"Civic\",2002)\n",
    "print(tuple) #will print all values\n",
    "print(len(tuple)) #Will print just length\n",
    "print(type(tuple))\n",
    "\n",
    "#The answer is tuple due to the (), not because of the var name tuple."
   ]
  },
  {
   "cell_type": "markdown",
   "id": "9c193df5",
   "metadata": {},
   "source": [
    "### Indexing in TUPLE"
   ]
  },
  {
   "cell_type": "code",
   "execution_count": 11,
   "id": "57fd6e4e",
   "metadata": {},
   "outputs": [
    {
     "data": {
      "text/plain": [
       "5000000"
      ]
     },
     "execution_count": 11,
     "metadata": {},
     "output_type": "execute_result"
    }
   ],
   "source": [
    "tuple[1] #It will give the complete value at index 1 which is 5000000"
   ]
  },
  {
   "cell_type": "code",
   "execution_count": 12,
   "id": "744be790",
   "metadata": {},
   "outputs": [
    {
     "data": {
      "text/plain": [
       "(5000000, 'Civic')"
      ]
     },
     "execution_count": 12,
     "metadata": {},
     "output_type": "execute_result"
    }
   ],
   "source": [
    "#Range\n",
    "tuple[1:3]"
   ]
  },
  {
   "cell_type": "code",
   "execution_count": 14,
   "id": "bbf1e348",
   "metadata": {},
   "outputs": [
    {
     "name": "stdout",
     "output_type": "stream",
     "text": [
      "('Car', 5000000, 'Civic', 2002, 'van', 20000)\n"
     ]
    }
   ],
   "source": [
    "tup2 =(\"van\",20000)\n",
    "tup3=tuple+tup2\n",
    "print(tup3)"
   ]
  },
  {
   "cell_type": "code",
   "execution_count": 15,
   "id": "43c4a420",
   "metadata": {},
   "outputs": [
    {
     "data": {
      "text/plain": [
       "('Car', 5000000, 'Civic', 2002, 'van', 20000, 'van', 20000)"
      ]
     },
     "execution_count": 15,
     "metadata": {},
     "output_type": "execute_result"
    }
   ],
   "source": [
    "tup3+tup2"
   ]
  },
  {
   "cell_type": "code",
   "execution_count": 16,
   "id": "11ee53fd",
   "metadata": {},
   "outputs": [
    {
     "data": {
      "text/plain": [
       "('Car', 5000000, 'Civic', 2002, 'van', 20000)"
      ]
     },
     "execution_count": 16,
     "metadata": {},
     "output_type": "execute_result"
    }
   ],
   "source": [
    "tuple+tup2"
   ]
  },
  {
   "cell_type": "code",
   "execution_count": 19,
   "id": "ac93f82e",
   "metadata": {},
   "outputs": [
    {
     "data": {
      "text/plain": [
       "2"
      ]
     },
     "execution_count": 19,
     "metadata": {},
     "output_type": "execute_result"
    }
   ],
   "source": [
    "tup4=(2,3,4,5,6,7,75,2,2,2)\n",
    "min(tup4)"
   ]
  },
  {
   "cell_type": "code",
   "execution_count": 20,
   "id": "ae73f77c",
   "metadata": {},
   "outputs": [
    {
     "data": {
      "text/plain": [
       "(2, 3, 4, 5, 6, 7, 75, 2, 2, 2, 2, 3, 4, 5, 6, 7, 75, 2, 2, 2)"
      ]
     },
     "execution_count": 20,
     "metadata": {},
     "output_type": "execute_result"
    }
   ],
   "source": [
    "tup4*2\n",
    "#it does not multiple every value with 2, "
   ]
  },
  {
   "cell_type": "markdown",
   "id": "3e7b0ca6",
   "metadata": {},
   "source": [
    "# List\n",
    "\n",
    "Lists are created using square brackets:"
   ]
  },
  {
   "cell_type": "code",
   "execution_count": 24,
   "id": "ce892380",
   "metadata": {},
   "outputs": [
    {
     "name": "stdout",
     "output_type": "stream",
     "text": [
      "['Car', 5000000, 'Civic', 2002]\n",
      "4\n",
      "<class 'list'>\n"
     ]
    }
   ],
   "source": [
    "list1 = [\"Car\",5000000,\"Civic\",2002]\n",
    "print(list1)\n",
    "print(len(list1)) #Will print just length\n",
    "print(type(list1))"
   ]
  },
  {
   "cell_type": "code",
   "execution_count": 26,
   "id": "e32ebc3f",
   "metadata": {},
   "outputs": [
    {
     "name": "stdout",
     "output_type": "stream",
     "text": [
      "[2, 23, 45, 'Python']\n"
     ]
    }
   ],
   "source": [
    "list2 = [2,23,45,\"Python\"]\n",
    "print(list2)"
   ]
  },
  {
   "cell_type": "code",
   "execution_count": 27,
   "id": "b358b8ed",
   "metadata": {},
   "outputs": [
    {
     "data": {
      "text/plain": [
       "['Car', 5000000, 'Civic', 2002, 2, 23, 45, 'Python']"
      ]
     },
     "execution_count": 27,
     "metadata": {},
     "output_type": "execute_result"
    }
   ],
   "source": [
    "list1+list2"
   ]
  },
  {
   "cell_type": "code",
   "execution_count": 29,
   "id": "ea96b21a",
   "metadata": {},
   "outputs": [
    {
     "data": {
      "text/plain": [
       "['Car', 5000000, 'Civic']"
      ]
     },
     "execution_count": 29,
     "metadata": {},
     "output_type": "execute_result"
    }
   ],
   "source": [
    "list1[0:3]"
   ]
  },
  {
   "cell_type": "code",
   "execution_count": 30,
   "id": "81ac7f9b",
   "metadata": {},
   "outputs": [
    {
     "data": {
      "text/plain": [
       "5000000"
      ]
     },
     "execution_count": 30,
     "metadata": {},
     "output_type": "execute_result"
    }
   ],
   "source": [
    "list1[1]"
   ]
  },
  {
   "cell_type": "code",
   "execution_count": 34,
   "id": "1eab0bae",
   "metadata": {},
   "outputs": [
    {
     "data": {
      "text/plain": [
       "[2002, 'Civic', 5000000, 'Car']"
      ]
     },
     "execution_count": 34,
     "metadata": {},
     "output_type": "execute_result"
    }
   ],
   "source": [
    "list1.reverse()\n",
    "list1"
   ]
  },
  {
   "cell_type": "code",
   "execution_count": 43,
   "id": "bb434c58",
   "metadata": {},
   "outputs": [
    {
     "data": {
      "text/plain": [
       "[2002, 'Civic', 5000000, 'Car', 'Daniyal', 'Daniyal', 'Daniyal', 'Code']"
      ]
     },
     "execution_count": 43,
     "metadata": {},
     "output_type": "execute_result"
    }
   ],
   "source": [
    "list1.append(\"Code\")\n",
    "list1"
   ]
  },
  {
   "cell_type": "markdown",
   "id": "d18219a1",
   "metadata": {},
   "source": [
    "# Dictionary\n",
    "Dictionaries are written with curly brackets, and have keys and values:"
   ]
  },
  {
   "cell_type": "code",
   "execution_count": 47,
   "id": "834ee011",
   "metadata": {},
   "outputs": [
    {
     "name": "stdout",
     "output_type": "stream",
     "text": [
      "{'brand': 'Ford', 'model': 'xyz', 'year': 2022}\n"
     ]
    }
   ],
   "source": [
    "cars = {\n",
    "  \"brand\": \"Ford\",\n",
    "  \"model\": \"xyz\",\n",
    "  \"year\": 2022,\n",
    "  \n",
    "}\n",
    "print(cars)"
   ]
  },
  {
   "cell_type": "code",
   "execution_count": 46,
   "id": "8206c6ab",
   "metadata": {},
   "outputs": [
    {
     "name": "stdout",
     "output_type": "stream",
     "text": [
      "{'brand': 'Honda', 'model': 'yxz', 'year': 2020}\n"
     ]
    }
   ],
   "source": [
    "cars1 = {\n",
    "  \"brand\": \"Honda\",\n",
    "  \"model\": \"yxz\",\n",
    "  \"year\": 2020\n",
    "}\n",
    "print(cars1)"
   ]
  },
  {
   "cell_type": "code",
   "execution_count": 48,
   "id": "2e9f00c5",
   "metadata": {},
   "outputs": [
    {
     "name": "stdout",
     "output_type": "stream",
     "text": [
      "<class 'dict'>\n"
     ]
    }
   ],
   "source": [
    "print(type(cars1))"
   ]
  },
  {
   "cell_type": "code",
   "execution_count": 50,
   "id": "841e991a",
   "metadata": {},
   "outputs": [
    {
     "data": {
      "text/plain": [
       "{'brand': 'Honda', 'model': 'yxz', 'year': 2020}"
      ]
     },
     "execution_count": 50,
     "metadata": {},
     "output_type": "execute_result"
    }
   ],
   "source": [
    "cars.update(cars1)\n",
    "cars"
   ]
  },
  {
   "cell_type": "markdown",
   "id": "a17bccc2",
   "metadata": {},
   "source": [
    "# SET\n",
    "1. set uses curly \"{}\" brackets but donot have key and value\n",
    "2. It is un odered and unchangeable"
   ]
  },
  {
   "cell_type": "code",
   "execution_count": 52,
   "id": "774b27eb",
   "metadata": {},
   "outputs": [
    {
     "name": "stdout",
     "output_type": "stream",
     "text": [
      "{'apple', 'cherry', 'banana'}\n"
     ]
    }
   ],
   "source": [
    "set = {\"apple\", \"banana\", \"cherry\"}\n",
    "print(set)"
   ]
  },
  {
   "cell_type": "code",
   "execution_count": 57,
   "id": "bd528361",
   "metadata": {},
   "outputs": [
    {
     "data": {
      "text/plain": [
       "('apple1', 'banana1', 'cherry1')"
      ]
     },
     "execution_count": 57,
     "metadata": {},
     "output_type": "execute_result"
    }
   ],
   "source": [
    "set1 = (\"apple1\", \"banana1\", \"cherry1\")\n",
    "\n",
    "set1"
   ]
  }
 ],
 "metadata": {
  "kernelspec": {
   "display_name": "Python 3 (ipykernel)",
   "language": "python",
   "name": "python3"
  },
  "language_info": {
   "codemirror_mode": {
    "name": "ipython",
    "version": 3
   },
   "file_extension": ".py",
   "mimetype": "text/x-python",
   "name": "python",
   "nbconvert_exporter": "python",
   "pygments_lexer": "ipython3",
   "version": "3.9.13"
  }
 },
 "nbformat": 4,
 "nbformat_minor": 5
}
